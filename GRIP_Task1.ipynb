{
 "cells": [
  {
   "cell_type": "markdown",
   "id": "55d23782",
   "metadata": {},
   "source": [
    "## The Sparks Foundation Internship\n",
    "GRIP(Graduate Rotational Internship Program) October 2022"
   ]
  },
  {
   "cell_type": "markdown",
   "id": "152bc40e",
   "metadata": {},
   "source": [
    "Data Science and Business Analytics intern"
   ]
  },
  {
   "cell_type": "markdown",
   "id": "f01ecd91",
   "metadata": {},
   "source": [
    "AUTHOR :Saad Mukhtar Kazi"
   ]
  },
  {
   "cell_type": "markdown",
   "id": "fa922232",
   "metadata": {},
   "source": [
    "Task 1 :Prediction using Supervised Machine Learning\n",
    "        Simple Linear Regression Task"
   ]
  },
  {
   "cell_type": "markdown",
   "id": "80803515",
   "metadata": {},
   "source": [
    "## Problem Statement:\n",
    "Prediction using Supervised Machine Learning.\n",
    "Predict the percentage of an student based on the number of study hours.\n",
    "What will be the predicted score if a student studies for 9.25hr/day?"
   ]
  },
  {
   "cell_type": "code",
   "execution_count": 1,
   "id": "b7626e71",
   "metadata": {},
   "outputs": [],
   "source": [
    "## importing libraries\n",
    "import pandas as pd'\n",
    "import numpy as np\n",
    "import seaborn as sns\n",
    "import matplotlib.pyplot as plt\n",
    "from sklearn import linear_model\n",
    "import warnings\n",
    "warnings.filterwarnings('ignore')\n",
    "%matplotlib inline\n",
    "\n",
    "##observation: pandas, numpy, matplotlib, linear_model libraries got imported"
   ]
  },
  {
   "cell_type": "code",
   "execution_count": 2,
   "id": "766ebacb",
   "metadata": {},
   "outputs": [
    {
     "data": {
      "text/html": [
       "<div>\n",
       "<style scoped>\n",
       "    .dataframe tbody tr th:only-of-type {\n",
       "        vertical-align: middle;\n",
       "    }\n",
       "\n",
       "    .dataframe tbody tr th {\n",
       "        vertical-align: top;\n",
       "    }\n",
       "\n",
       "    .dataframe thead th {\n",
       "        text-align: right;\n",
       "    }\n",
       "</style>\n",
       "<table border=\"1\" class=\"dataframe\">\n",
       "  <thead>\n",
       "    <tr style=\"text-align: right;\">\n",
       "      <th></th>\n",
       "      <th>Hours</th>\n",
       "      <th>Scores</th>\n",
       "    </tr>\n",
       "  </thead>\n",
       "  <tbody>\n",
       "    <tr>\n",
       "      <th>0</th>\n",
       "      <td>2.5</td>\n",
       "      <td>21</td>\n",
       "    </tr>\n",
       "    <tr>\n",
       "      <th>1</th>\n",
       "      <td>5.1</td>\n",
       "      <td>47</td>\n",
       "    </tr>\n",
       "    <tr>\n",
       "      <th>2</th>\n",
       "      <td>3.2</td>\n",
       "      <td>27</td>\n",
       "    </tr>\n",
       "    <tr>\n",
       "      <th>3</th>\n",
       "      <td>8.5</td>\n",
       "      <td>75</td>\n",
       "    </tr>\n",
       "    <tr>\n",
       "      <th>4</th>\n",
       "      <td>3.5</td>\n",
       "      <td>30</td>\n",
       "    </tr>\n",
       "    <tr>\n",
       "      <th>5</th>\n",
       "      <td>1.5</td>\n",
       "      <td>20</td>\n",
       "    </tr>\n",
       "    <tr>\n",
       "      <th>6</th>\n",
       "      <td>9.2</td>\n",
       "      <td>88</td>\n",
       "    </tr>\n",
       "    <tr>\n",
       "      <th>7</th>\n",
       "      <td>5.5</td>\n",
       "      <td>60</td>\n",
       "    </tr>\n",
       "    <tr>\n",
       "      <th>8</th>\n",
       "      <td>8.3</td>\n",
       "      <td>81</td>\n",
       "    </tr>\n",
       "    <tr>\n",
       "      <th>9</th>\n",
       "      <td>2.7</td>\n",
       "      <td>25</td>\n",
       "    </tr>\n",
       "    <tr>\n",
       "      <th>10</th>\n",
       "      <td>7.7</td>\n",
       "      <td>85</td>\n",
       "    </tr>\n",
       "    <tr>\n",
       "      <th>11</th>\n",
       "      <td>5.9</td>\n",
       "      <td>62</td>\n",
       "    </tr>\n",
       "    <tr>\n",
       "      <th>12</th>\n",
       "      <td>4.5</td>\n",
       "      <td>41</td>\n",
       "    </tr>\n",
       "    <tr>\n",
       "      <th>13</th>\n",
       "      <td>3.3</td>\n",
       "      <td>42</td>\n",
       "    </tr>\n",
       "    <tr>\n",
       "      <th>14</th>\n",
       "      <td>1.1</td>\n",
       "      <td>17</td>\n",
       "    </tr>\n",
       "    <tr>\n",
       "      <th>15</th>\n",
       "      <td>8.9</td>\n",
       "      <td>95</td>\n",
       "    </tr>\n",
       "    <tr>\n",
       "      <th>16</th>\n",
       "      <td>2.5</td>\n",
       "      <td>30</td>\n",
       "    </tr>\n",
       "    <tr>\n",
       "      <th>17</th>\n",
       "      <td>1.9</td>\n",
       "      <td>24</td>\n",
       "    </tr>\n",
       "    <tr>\n",
       "      <th>18</th>\n",
       "      <td>6.1</td>\n",
       "      <td>67</td>\n",
       "    </tr>\n",
       "    <tr>\n",
       "      <th>19</th>\n",
       "      <td>7.4</td>\n",
       "      <td>69</td>\n",
       "    </tr>\n",
       "    <tr>\n",
       "      <th>20</th>\n",
       "      <td>2.7</td>\n",
       "      <td>30</td>\n",
       "    </tr>\n",
       "    <tr>\n",
       "      <th>21</th>\n",
       "      <td>4.8</td>\n",
       "      <td>54</td>\n",
       "    </tr>\n",
       "    <tr>\n",
       "      <th>22</th>\n",
       "      <td>3.8</td>\n",
       "      <td>35</td>\n",
       "    </tr>\n",
       "    <tr>\n",
       "      <th>23</th>\n",
       "      <td>6.9</td>\n",
       "      <td>76</td>\n",
       "    </tr>\n",
       "    <tr>\n",
       "      <th>24</th>\n",
       "      <td>7.8</td>\n",
       "      <td>86</td>\n",
       "    </tr>\n",
       "  </tbody>\n",
       "</table>\n",
       "</div>"
      ],
      "text/plain": [
       "    Hours  Scores\n",
       "0     2.5      21\n",
       "1     5.1      47\n",
       "2     3.2      27\n",
       "3     8.5      75\n",
       "4     3.5      30\n",
       "5     1.5      20\n",
       "6     9.2      88\n",
       "7     5.5      60\n",
       "8     8.3      81\n",
       "9     2.7      25\n",
       "10    7.7      85\n",
       "11    5.9      62\n",
       "12    4.5      41\n",
       "13    3.3      42\n",
       "14    1.1      17\n",
       "15    8.9      95\n",
       "16    2.5      30\n",
       "17    1.9      24\n",
       "18    6.1      67\n",
       "19    7.4      69\n",
       "20    2.7      30\n",
       "21    4.8      54\n",
       "22    3.8      35\n",
       "23    6.9      76\n",
       "24    7.8      86"
      ]
     },
     "execution_count": 2,
     "metadata": {},
     "output_type": "execute_result"
    }
   ],
   "source": [
    "## data =http://bit.ly/w-data\n",
    "\n",
    "# reading dataset from url link\n",
    "url = \"https://raw.githubusercontent.com/AdiPersonalWorks/Random/master/student_scores%20-%20student_scores.csv\"\n",
    "data= pd.read_csv(url)\n",
    "data\n",
    "\n",
    "## observation: Dataset read and displayed"
   ]
  },
  {
   "cell_type": "code",
   "execution_count": 3,
   "id": "2f9bfbcb",
   "metadata": {},
   "outputs": [
    {
     "data": {
      "text/plain": [
       "(25, 2)"
      ]
     },
     "execution_count": 3,
     "metadata": {},
     "output_type": "execute_result"
    }
   ],
   "source": [
    "## shape of data \n",
    "data.shape\n",
    "## observation: The number of rows is 25 and columns is 2"
   ]
  },
  {
   "cell_type": "code",
   "execution_count": 4,
   "id": "5ce9fd51",
   "metadata": {},
   "outputs": [
    {
     "data": {
      "text/plain": [
       "Index(['Hours', 'Scores'], dtype='object')"
      ]
     },
     "execution_count": 4,
     "metadata": {},
     "output_type": "execute_result"
    }
   ],
   "source": [
    "## columns name\n",
    "data.columns\n",
    "## observation: Hours and Scores "
   ]
  },
  {
   "cell_type": "code",
   "execution_count": 5,
   "id": "cf1991b4",
   "metadata": {},
   "outputs": [
    {
     "data": {
      "text/plain": [
       "Index     128\n",
       "Hours     200\n",
       "Scores    200\n",
       "dtype: int64"
      ]
     },
     "execution_count": 5,
     "metadata": {},
     "output_type": "execute_result"
    }
   ],
   "source": [
    "## memory usage\n",
    "data.memory_usage()"
   ]
  },
  {
   "cell_type": "code",
   "execution_count": 6,
   "id": "30b78d29",
   "metadata": {},
   "outputs": [
    {
     "data": {
      "text/html": [
       "<div>\n",
       "<style scoped>\n",
       "    .dataframe tbody tr th:only-of-type {\n",
       "        vertical-align: middle;\n",
       "    }\n",
       "\n",
       "    .dataframe tbody tr th {\n",
       "        vertical-align: top;\n",
       "    }\n",
       "\n",
       "    .dataframe thead th {\n",
       "        text-align: right;\n",
       "    }\n",
       "</style>\n",
       "<table border=\"1\" class=\"dataframe\">\n",
       "  <thead>\n",
       "    <tr style=\"text-align: right;\">\n",
       "      <th></th>\n",
       "      <th>Hours</th>\n",
       "      <th>Scores</th>\n",
       "    </tr>\n",
       "  </thead>\n",
       "  <tbody>\n",
       "    <tr>\n",
       "      <th>0</th>\n",
       "      <td>2.5</td>\n",
       "      <td>21</td>\n",
       "    </tr>\n",
       "    <tr>\n",
       "      <th>1</th>\n",
       "      <td>5.1</td>\n",
       "      <td>47</td>\n",
       "    </tr>\n",
       "    <tr>\n",
       "      <th>2</th>\n",
       "      <td>3.2</td>\n",
       "      <td>27</td>\n",
       "    </tr>\n",
       "    <tr>\n",
       "      <th>3</th>\n",
       "      <td>8.5</td>\n",
       "      <td>75</td>\n",
       "    </tr>\n",
       "    <tr>\n",
       "      <th>4</th>\n",
       "      <td>3.5</td>\n",
       "      <td>30</td>\n",
       "    </tr>\n",
       "  </tbody>\n",
       "</table>\n",
       "</div>"
      ],
      "text/plain": [
       "   Hours  Scores\n",
       "0    2.5      21\n",
       "1    5.1      47\n",
       "2    3.2      27\n",
       "3    8.5      75\n",
       "4    3.5      30"
      ]
     },
     "execution_count": 6,
     "metadata": {},
     "output_type": "execute_result"
    }
   ],
   "source": [
    "## reading top 5 rows\n",
    "data.head()"
   ]
  },
  {
   "cell_type": "code",
   "execution_count": 7,
   "id": "7a2757ad",
   "metadata": {},
   "outputs": [
    {
     "data": {
      "text/html": [
       "<div>\n",
       "<style scoped>\n",
       "    .dataframe tbody tr th:only-of-type {\n",
       "        vertical-align: middle;\n",
       "    }\n",
       "\n",
       "    .dataframe tbody tr th {\n",
       "        vertical-align: top;\n",
       "    }\n",
       "\n",
       "    .dataframe thead th {\n",
       "        text-align: right;\n",
       "    }\n",
       "</style>\n",
       "<table border=\"1\" class=\"dataframe\">\n",
       "  <thead>\n",
       "    <tr style=\"text-align: right;\">\n",
       "      <th></th>\n",
       "      <th>count</th>\n",
       "      <th>mean</th>\n",
       "      <th>std</th>\n",
       "      <th>min</th>\n",
       "      <th>25%</th>\n",
       "      <th>50%</th>\n",
       "      <th>75%</th>\n",
       "      <th>max</th>\n",
       "    </tr>\n",
       "  </thead>\n",
       "  <tbody>\n",
       "    <tr>\n",
       "      <th>Hours</th>\n",
       "      <td>25.0</td>\n",
       "      <td>5.012</td>\n",
       "      <td>2.525094</td>\n",
       "      <td>1.1</td>\n",
       "      <td>2.7</td>\n",
       "      <td>4.8</td>\n",
       "      <td>7.4</td>\n",
       "      <td>9.2</td>\n",
       "    </tr>\n",
       "    <tr>\n",
       "      <th>Scores</th>\n",
       "      <td>25.0</td>\n",
       "      <td>51.480</td>\n",
       "      <td>25.286887</td>\n",
       "      <td>17.0</td>\n",
       "      <td>30.0</td>\n",
       "      <td>47.0</td>\n",
       "      <td>75.0</td>\n",
       "      <td>95.0</td>\n",
       "    </tr>\n",
       "  </tbody>\n",
       "</table>\n",
       "</div>"
      ],
      "text/plain": [
       "        count    mean        std   min   25%   50%   75%   max\n",
       "Hours    25.0   5.012   2.525094   1.1   2.7   4.8   7.4   9.2\n",
       "Scores   25.0  51.480  25.286887  17.0  30.0  47.0  75.0  95.0"
      ]
     },
     "execution_count": 7,
     "metadata": {},
     "output_type": "execute_result"
    }
   ],
   "source": [
    "## descriptive statitics of Hours and Scores\n",
    "## T-Transpose\n",
    "data.describe().T\n",
    "## observation: there are no missing values as both columns row count is 25."
   ]
  },
  {
   "cell_type": "code",
   "execution_count": 8,
   "id": "5de3a013",
   "metadata": {},
   "outputs": [
    {
     "data": {
      "text/plain": [
       "0"
      ]
     },
     "execution_count": 8,
     "metadata": {},
     "output_type": "execute_result"
    }
   ],
   "source": [
    "## duplicated values sum\n",
    "data.duplicated().sum()\n",
    "## observation : no duplicate values"
   ]
  },
  {
   "cell_type": "code",
   "execution_count": 9,
   "id": "129cdccd",
   "metadata": {},
   "outputs": [
    {
     "data": {
      "text/plain": [
       "Hours     0.190338\n",
       "Scores    0.233965\n",
       "dtype: float64"
      ]
     },
     "execution_count": 9,
     "metadata": {},
     "output_type": "execute_result"
    }
   ],
   "source": [
    "## skewness \n",
    "data.skew()"
   ]
  },
  {
   "cell_type": "code",
   "execution_count": 10,
   "id": "24fd94df",
   "metadata": {},
   "outputs": [
    {
     "data": {
      "text/plain": [
       "NormaltestResult(statistic=5.733510552470018, pvalue=0.056883197727184746)"
      ]
     },
     "execution_count": 10,
     "metadata": {},
     "output_type": "execute_result"
    }
   ],
   "source": [
    "## checking normal test results\n",
    "from scipy.stats import normaltest\n",
    "normaltest(data['Hours'])"
   ]
  },
  {
   "cell_type": "markdown",
   "id": "2bd392d5",
   "metadata": {},
   "source": [
    "## Exploratory Data Analysis"
   ]
  },
  {
   "cell_type": "code",
   "execution_count": 11,
   "id": "c947dacb",
   "metadata": {},
   "outputs": [],
   "source": [
    "## computing q1 , q2 at 25 and 75 percent respectively,  upper and lower limit \n",
    "q1=data['Hours'].quantile(0.25)\n",
    "q3=data['Hours'].quantile(0.75)\n",
    "IQR= q3-q1\n",
    "upper_limit= q3 +(1.5*IQR)\n",
    "lower_limit= q3 -(1.5*IQR)"
   ]
  },
  {
   "cell_type": "code",
   "execution_count": 12,
   "id": "bdbe749e",
   "metadata": {},
   "outputs": [
    {
     "data": {
      "text/plain": [
       "14.450000000000001"
      ]
     },
     "execution_count": 12,
     "metadata": {},
     "output_type": "execute_result"
    }
   ],
   "source": [
    "# printing upper limit \n",
    "upper_limit"
   ]
  },
  {
   "cell_type": "code",
   "execution_count": 13,
   "id": "ec3e07b9",
   "metadata": {},
   "outputs": [
    {
     "data": {
      "text/plain": [
       "0.34999999999999964"
      ]
     },
     "execution_count": 13,
     "metadata": {},
     "output_type": "execute_result"
    }
   ],
   "source": [
    "## printing lower limit\n",
    "lower_limit"
   ]
  },
  {
   "cell_type": "code",
   "execution_count": 14,
   "id": "6c64f1a9",
   "metadata": {},
   "outputs": [
    {
     "data": {
      "text/html": [
       "<div>\n",
       "<style scoped>\n",
       "    .dataframe tbody tr th:only-of-type {\n",
       "        vertical-align: middle;\n",
       "    }\n",
       "\n",
       "    .dataframe tbody tr th {\n",
       "        vertical-align: top;\n",
       "    }\n",
       "\n",
       "    .dataframe thead th {\n",
       "        text-align: right;\n",
       "    }\n",
       "</style>\n",
       "<table border=\"1\" class=\"dataframe\">\n",
       "  <thead>\n",
       "    <tr style=\"text-align: right;\">\n",
       "      <th></th>\n",
       "      <th>Hours</th>\n",
       "      <th>Scores</th>\n",
       "    </tr>\n",
       "  </thead>\n",
       "  <tbody>\n",
       "  </tbody>\n",
       "</table>\n",
       "</div>"
      ],
      "text/plain": [
       "Empty DataFrame\n",
       "Columns: [Hours, Scores]\n",
       "Index: []"
      ]
     },
     "execution_count": 14,
     "metadata": {},
     "output_type": "execute_result"
    }
   ],
   "source": [
    "## Checking rows with outliers\n",
    "data_outlier_lowerlimit=data[data['Hours']<lower_limit]\n",
    "data_outlier_lowerlimit\n",
    "\n",
    "## observation: no outliers present"
   ]
  },
  {
   "cell_type": "code",
   "execution_count": 15,
   "id": "3ba439d7",
   "metadata": {},
   "outputs": [
    {
     "data": {
      "text/html": [
       "<div>\n",
       "<style scoped>\n",
       "    .dataframe tbody tr th:only-of-type {\n",
       "        vertical-align: middle;\n",
       "    }\n",
       "\n",
       "    .dataframe tbody tr th {\n",
       "        vertical-align: top;\n",
       "    }\n",
       "\n",
       "    .dataframe thead th {\n",
       "        text-align: right;\n",
       "    }\n",
       "</style>\n",
       "<table border=\"1\" class=\"dataframe\">\n",
       "  <thead>\n",
       "    <tr style=\"text-align: right;\">\n",
       "      <th></th>\n",
       "      <th>Hours</th>\n",
       "      <th>Scores</th>\n",
       "    </tr>\n",
       "  </thead>\n",
       "  <tbody>\n",
       "  </tbody>\n",
       "</table>\n",
       "</div>"
      ],
      "text/plain": [
       "Empty DataFrame\n",
       "Columns: [Hours, Scores]\n",
       "Index: []"
      ]
     },
     "execution_count": 15,
     "metadata": {},
     "output_type": "execute_result"
    }
   ],
   "source": [
    "##  Checking rows with outliers\n",
    "data_outlier_upperlimit=data[data['Hours']>upper_limit]\n",
    "data_outlier_upperlimit\n",
    "\n",
    "## observation: no outliers present"
   ]
  },
  {
   "cell_type": "markdown",
   "id": "ee7ecd20",
   "metadata": {},
   "source": [
    "## Graphical Analysis"
   ]
  },
  {
   "cell_type": "code",
   "execution_count": 16,
   "id": "e2000a9f",
   "metadata": {},
   "outputs": [
    {
     "data": {
      "text/plain": [
       "<AxesSubplot:xlabel='Scores', ylabel='Density'>"
      ]
     },
     "execution_count": 16,
     "metadata": {},
     "output_type": "execute_result"
    },
    {
     "data": {
      "image/png": "[encoded data removed]",
      "text/plain": [
       "<Figure size 432x288 with 1 Axes>"
      ]
     },
     "metadata": {
      "needs_background": "light"
     },
     "output_type": "display_data"
    }
   ],
   "source": [
    "## checking the distribution of scores in dataset\n",
    "sns.distplot(data['Scores'])\n",
    "\n",
    "## observation: almost normally distributed(bimodal)"
   ]
  },
  {
   "cell_type": "code",
   "execution_count": 17,
   "id": "356dfc74",
   "metadata": {},
   "outputs": [
    {
     "data": {
      "text/plain": [
       "<seaborn.axisgrid.PairGrid at 0x2ad6f718160>"
      ]
     },
     "execution_count": 17,
     "metadata": {},
     "output_type": "execute_result"
    },
    {
     "data": {
      "image/png": "[encoded data removed]",
      "text/plain": [
       "<Figure size 360x360 with 6 Axes>"
      ]
     },
     "metadata": {
      "needs_background": "light"
     },
     "output_type": "display_data"
    }
   ],
   "source": [
    "##plotting scores \n",
    "import seaborn as sns\n",
    "sns.pairplot(data)\n",
    "## we usually use pair plot in multivaraiate analysis\n",
    "\n",
    "## observation : A linear relationship is depicted between the number of study hours and the percentage score"
   ]
  },
  {
   "cell_type": "code",
   "execution_count": 18,
   "id": "c2663170",
   "metadata": {},
   "outputs": [
    {
     "data": {
      "text/plain": [
       "<AxesSubplot:xlabel='Hours', ylabel='Scores'>"
      ]
     },
     "execution_count": 18,
     "metadata": {},
     "output_type": "execute_result"
    },
    {
     "data": {
      "image/png": "[encoded data removed]",
      "text/plain": [
       "<Figure size 432x288 with 1 Axes>"
      ]
     },
     "metadata": {
      "needs_background": "light"
     },
     "output_type": "display_data"
    }
   ],
   "source": [
    "## plotting regression plot\n",
    "## reg plot plots the data and the linear regression model fit line\n",
    "sns.regplot(x=\"Hours\",y=\"Scores\",data=data)\n"
   ]
  },
  {
   "cell_type": "code",
   "execution_count": 19,
   "id": "796c9890",
   "metadata": {},
   "outputs": [
    {
     "data": {
      "text/plain": [
       "<AxesSubplot:>"
      ]
     },
     "execution_count": 19,
     "metadata": {},
     "output_type": "execute_result"
    },
    {
     "data": {
      "image/png": "[encoded data removed]",
      "text/plain": [
       "<Figure size 432x288 with 2 Axes>"
      ]
     },
     "metadata": {},
     "output_type": "display_data"
    }
   ],
   "source": [
    "## Plotting heat map to check correlation\n",
    "sns.set(rc={'figure.figsize':(6,4)})\n",
    "sns.heatmap(data.corr(),annot=True)"
   ]
  },
  {
   "cell_type": "markdown",
   "id": "982e0046",
   "metadata": {},
   "source": [
    "# Preparing the data"
   ]
  },
  {
   "cell_type": "code",
   "execution_count": 20,
   "id": "9cef258b",
   "metadata": {},
   "outputs": [],
   "source": [
    "## Independent X And Dependent y Features\n",
    "X = data.iloc[:, :-1].values  \n",
    "y = data.iloc[:, 1].values"
   ]
  },
  {
   "cell_type": "code",
   "execution_count": 21,
   "id": "95838db9",
   "metadata": {},
   "outputs": [
    {
     "name": "stdout",
     "output_type": "stream",
     "text": [
      "[[2.5]\n",
      " [5.1]\n",
      " [3.2]\n",
      " [8.5]\n",
      " [3.5]\n",
      " [1.5]\n",
      " [9.2]\n",
      " [5.5]\n",
      " [8.3]\n",
      " [2.7]\n",
      " [7.7]\n",
      " [5.9]\n",
      " [4.5]\n",
      " [3.3]\n",
      " [1.1]\n",
      " [8.9]\n",
      " [2.5]\n",
      " [1.9]\n",
      " [6.1]\n",
      " [7.4]\n",
      " [2.7]\n",
      " [4.8]\n",
      " [3.8]\n",
      " [6.9]\n",
      " [7.8]]\n"
     ]
    }
   ],
   "source": [
    "# printing independent X features\n",
    "print(X)"
   ]
  },
  {
   "cell_type": "code",
   "execution_count": 22,
   "id": "09c5e739",
   "metadata": {},
   "outputs": [
    {
     "name": "stdout",
     "output_type": "stream",
     "text": [
      "[21 47 27 75 30 20 88 60 81 25 85 62 41 42 17 95 30 24 67 69 30 54 35 76\n",
      " 86]\n"
     ]
    }
   ],
   "source": [
    "# printing independent X features\n",
    "print(y)"
   ]
  },
  {
   "cell_type": "code",
   "execution_count": 23,
   "id": "420a6341",
   "metadata": {},
   "outputs": [],
   "source": [
    "# importing train_test_split \n",
    "from sklearn.model_selection import train_test_split  \n",
    "\n",
    "# Splitting Data Into Train and Test data\n",
    "#test size : how much percent of data points allocated for test data, here we have selected 20 percent so 0.20\n",
    "\n",
    "X_train, X_test, y_train, y_test = train_test_split(X, y, test_size=0.20, random_state=42)"
   ]
  },
  {
   "cell_type": "code",
   "execution_count": 24,
   "id": "54c75bab",
   "metadata": {},
   "outputs": [
    {
     "name": "stdout",
     "output_type": "stream",
     "text": [
      "(20, 1) (5, 1) (20,) (5,)\n"
     ]
    }
   ],
   "source": [
    "# printing the number of rows and columns\n",
    "print(X_train.shape, X_test.shape, y_train.shape, y_test.shape)\n"
   ]
  },
  {
   "cell_type": "markdown",
   "id": "ba528b4b",
   "metadata": {},
   "source": [
    "# Linear Regression Model Training"
   ]
  },
  {
   "cell_type": "code",
   "execution_count": 25,
   "id": "5c1784ea",
   "metadata": {},
   "outputs": [],
   "source": [
    "## importing LinearRegression\n",
    "\n",
    "from sklearn.linear_model import LinearRegression\n",
    "\n",
    "# name of object:regression\n",
    "regression=LinearRegression()"
   ]
  },
  {
   "cell_type": "code",
   "execution_count": 26,
   "id": "da085d04",
   "metadata": {},
   "outputs": [
    {
     "data": {
      "text/plain": [
       "LinearRegression()"
      ]
     },
     "execution_count": 26,
     "metadata": {},
     "output_type": "execute_result"
    }
   ],
   "source": [
    "# training the data\n",
    "regression.fit(X_train,y_train)"
   ]
  },
  {
   "cell_type": "code",
   "execution_count": 27,
   "id": "448e5f25",
   "metadata": {},
   "outputs": [
    {
     "name": "stdout",
     "output_type": "stream",
     "text": [
      "[9.68207815]\n"
     ]
    }
   ],
   "source": [
    "## printing the regresssion coefficients \n",
    "print(regression.coef_)"
   ]
  },
  {
   "cell_type": "code",
   "execution_count": 28,
   "id": "5c0d3c7c",
   "metadata": {},
   "outputs": [
    {
     "name": "stdout",
     "output_type": "stream",
     "text": [
      "2.826892353899737\n"
     ]
    }
   ],
   "source": [
    " ## printing  the intercept\n",
    "print(regression.intercept_)"
   ]
  },
  {
   "cell_type": "code",
   "execution_count": 29,
   "id": "fc2e2df8",
   "metadata": {},
   "outputs": [
    {
     "data": {
      "image/png": "[encoded data removed]",
      "text/plain": [
       "<Figure size 432x288 with 1 Axes>"
      ]
     },
     "metadata": {},
     "output_type": "display_data"
    }
   ],
   "source": [
    "# Plotting the regression line\n",
    "regression_line = regression.intercept_+regression.coef_*X\n",
    "\n",
    "# Plotting for the test data\n",
    "plt.scatter(X, y, c= 'r')\n",
    "plt.plot(X, regression_line);\n",
    "plt.show()"
   ]
  },
  {
   "cell_type": "code",
   "execution_count": 30,
   "id": "d7a01c92",
   "metadata": {},
   "outputs": [
    {
     "name": "stdout",
     "output_type": "stream",
     "text": [
      "[83.18814104 27.03208774 27.03208774 69.63323162 59.95115347]\n"
     ]
    }
   ],
   "source": [
    "## Prediction from the test data\n",
    "reg_pred=regression.predict(X_test)\n",
    "print(reg_pred) "
   ]
  },
  {
   "cell_type": "code",
   "execution_count": 31,
   "id": "c7a4a792",
   "metadata": {},
   "outputs": [
    {
     "data": {
      "text/plain": [
       "array([-2.18814104,  2.96791226, -6.03208774,  6.36676838,  2.04884653])"
      ]
     },
     "execution_count": 31,
     "metadata": {},
     "output_type": "execute_result"
    }
   ],
   "source": [
    "## residuals\n",
    "residuals =y_test-reg_pred\n",
    "residuals\n",
    "\n",
    "# residuals are errors "
   ]
  },
  {
   "cell_type": "code",
   "execution_count": 32,
   "id": "1635e8cb",
   "metadata": {},
   "outputs": [
    {
     "name": "stdout",
     "output_type": "stream",
     "text": [
      "Training Score: 94.91209376364415\n",
      "Testing Score: 96.78055545167994\n"
     ]
    }
   ],
   "source": [
    "## Computing Training and Testing Accuracy Scores\n",
    "\n",
    "print(\"Training Score:\",regression.score(X_train,y_train)*100)\n",
    "print(\"Testing Score:\",regression.score(X_test,y_test)*100)"
   ]
  },
  {
   "cell_type": "code",
   "execution_count": 33,
   "id": "5d89c94b",
   "metadata": {},
   "outputs": [],
   "source": [
    "## Predictions on the Test Set"
   ]
  },
  {
   "cell_type": "code",
   "execution_count": 34,
   "id": "770a5086",
   "metadata": {},
   "outputs": [],
   "source": [
    "## Problem Statement \n",
    "## What will be predicted score if a student study for 9.25 hrs in a day?"
   ]
  },
  {
   "cell_type": "code",
   "execution_count": 35,
   "id": "9f88c3e6",
   "metadata": {},
   "outputs": [
    {
     "name": "stdout",
     "output_type": "stream",
     "text": [
      "Number of study Hours = 9.25\n",
      "Predicted Score = 92.38611528261494\n"
     ]
    }
   ],
   "source": [
    "# computing \n",
    "hours = 9.25\n",
    "reg_score_pred = regression.predict([[hours]])\n",
    "print(\"Number of study Hours = {}\".format(hours))\n",
    "print(\"Predicted Score = {}\".format(reg_score_pred[0]))"
   ]
  },
  {
   "cell_type": "code",
   "execution_count": 36,
   "id": "b97bd4e7",
   "metadata": {},
   "outputs": [],
   "source": [
    "## The predicted score when a student studies for 9.25 hrs/day is 92.38 percent"
   ]
  },
  {
   "cell_type": "markdown",
   "id": "e9ac4985",
   "metadata": {},
   "source": [
    "## Performance Metrics"
   ]
  },
  {
   "cell_type": "code",
   "execution_count": 37,
   "id": "b79d276c",
   "metadata": {},
   "outputs": [],
   "source": [
    "## computing Mean Squared Error,Mean Absolute Error ,Root Mean Squared Error"
   ]
  },
  {
   "cell_type": "code",
   "execution_count": 38,
   "id": "4c9ae7c4",
   "metadata": {},
   "outputs": [
    {
     "name": "stdout",
     "output_type": "stream",
     "text": [
      "18.943211722315272\n",
      "3.9207511902099244\n",
      "4.352380006653288\n"
     ]
    }
   ],
   "source": [
    "# importing mean_squared_error, mean_absolute_error\n",
    "\n",
    "from sklearn.metrics import mean_squared_error\n",
    "from sklearn.metrics import mean_absolute_error\n",
    "\n",
    "##  printing Mean Squared Error\n",
    "print(mean_squared_error(y_test, reg_pred))\n",
    "\n",
    "##  printing Mean Absolute Error\n",
    "print(mean_absolute_error(y_test, reg_pred))\n",
    "\n",
    "##  printing Root Mean Squared Error\n",
    "print(np.sqrt(mean_squared_error(y_test, reg_pred)))\n",
    "\n",
    "## observation: It has less mean_absolute_error"
   ]
  },
  {
   "cell_type": "code",
   "execution_count": 39,
   "id": "346c579c",
   "metadata": {},
   "outputs": [],
   "source": [
    "## computing R Square and Adjusted R Square"
   ]
  },
  {
   "cell_type": "code",
   "execution_count": 40,
   "id": "8865a70c",
   "metadata": {},
   "outputs": [
    {
     "name": "stdout",
     "output_type": "stream",
     "text": [
      "0.9678055545167994\n"
     ]
    }
   ],
   "source": [
    "## computing R Square \n",
    "from sklearn.metrics import r2_score\n",
    "score=r2_score(y_test,reg_pred)\n",
    "print (score)\n",
    "\n",
    "## observation: value of r square is 0.9678\n",
    "## 97 percent of the variance is explained by the model."
   ]
  },
  {
   "cell_type": "code",
   "execution_count": 41,
   "id": "5c24d077",
   "metadata": {},
   "outputs": [
    {
     "data": {
      "text/plain": [
       "0.9570740726890659"
      ]
     },
     "execution_count": 41,
     "metadata": {},
     "output_type": "execute_result"
    }
   ],
   "source": [
    "##  Adjusted R Square\n",
    "1-(1-score)*(len(y_test)-1)/(len(y_test)-X_test.shape[1]-1)\n",
    "\n",
    "## observation: value of  adjusted r square is 0.9570\n",
    "## R sqaure is adjusted by the number of independent variables."
   ]
  },
  {
   "cell_type": "code",
   "execution_count": 42,
   "id": "5863b3d4",
   "metadata": {},
   "outputs": [],
   "source": [
    "## conclusion\n",
    "## The model performs well to predict score based on the number of study hours.\n",
    "## The model predicted 92 percent score if a student studies for 9.25 hours/day."
   ]
  }
 ],
 "metadata": {
  "kernelspec": {
   "display_name": "Python 3 (ipykernel)",
   "language": "python",
   "name": "python3"
  },
  "language_info": {
   "codemirror_mode": {
    "name": "ipython",
    "version": 3
   },
   "file_extension": ".py",
   "mimetype": "text/x-python",
   "name": "python",
   "nbconvert_exporter": "python",
   "pygments_lexer": "ipython3",
   "version": "3.9.12"
  }
 },
 "nbformat": 4,
 "nbformat_minor": 5
}
